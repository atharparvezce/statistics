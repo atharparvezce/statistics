{
 "cells": [
  {
   "cell_type": "markdown",
   "id": "47291604-c1d0-4689-91a4-0edbe888645d",
   "metadata": {},
   "source": [
    "# Statistics \n",
    "\n",
    "Statistics is the science of collecting , organising and analyzing data.\n",
    "\n",
    "We are doing this for better decision making.\n",
    "\n",
    "## Types of Statistics:-\n",
    "\n",
    "\n",
    "### 1. Descriptive Statistics\n",
    "It consists of organising and summarizing data.\n",
    "\n",
    "__e.g.__ \n",
    "\n",
    "What is the average marks of the students in the class.\n",
    "\n",
    "### 2. Inferential Statistics\n",
    "Technique where in we used the data we have measured to form conclusions.\n",
    "\n",
    "__e.g.__\n",
    "\n",
    "Are the marks of the students of this classroom similar to the marks of the Maths classroom in the college ?"
   ]
  },
  {
   "cell_type": "markdown",
   "id": "324f8442-1609-4dbc-8c85-fb99cae2fc7c",
   "metadata": {
    "jp-MarkdownHeadingCollapsed": true
   },
   "source": [
    "# Population and Sample \n",
    "\n",
    "## Population(N)\n",
    "The entire group of individuals or items that you want to study.\n",
    "\n",
    "**e.g.**\n",
    "\n",
    "__a.__ All customers of a bank.\n",
    "\n",
    "__b.__ Maths classrooms.\n",
    "\n",
    "## Sample(n) \n",
    "\n",
    "A smaller group selected from the population for analysis.\n",
    "\n",
    "**e.g.**  \n",
    "\n",
    "__a.__ 1,000 randomly selected customers from the bank.\n",
    "\n",
    "__b.__ Only one particularly selected class."
   ]
  },
  {
   "cell_type": "markdown",
   "id": "2284b857-2934-429f-b227-a857f156e8ec",
   "metadata": {},
   "source": [
    "# Types of Sampling \n",
    "\n",
    "\n",
    "### 1. Simple Random Sampling\n",
    "Every individual in the population has an equal chance of being selected.\n",
    "\n",
    "**Example**\n",
    "\n",
    "Picking 50 students randomly from a school.\n",
    "\n",
    "\n",
    "\n",
    "### 2. Stratified Sampling\n",
    "The population is divided into non overlapping groups(strata), and samples are taken from each group.\n",
    "\n",
    "**Example**\n",
    "\n",
    "Selecting students from each grade level in a school.\n",
    "\n",
    "\n",
    "\n",
    "### 3. Systematic Sampling\n",
    "Every nth individual from a list is selected.\n",
    "\n",
    "**Example**\n",
    "\n",
    "Choosing every 5th customer from a store’s entry list.\n",
    "\n",
    "\n",
    "\n",
    "### 4. Convenience Sampling:\n",
    "Samples are chosen based on ease of access.\n",
    "\n",
    "**Example**\n",
    "\n",
    "Surveying people at a nearby mall."
   ]
  },
  {
   "cell_type": "markdown",
   "id": "c2527f22-0127-4dc7-a2d7-00efedaf2f92",
   "metadata": {},
   "source": [
    "# Variables\n",
    "\n",
    "Characteristics or properties that can change or take different values.\n",
    "\n",
    "### 1. Quantitative Variables\n",
    "Numerical values that can be measured or counted\n",
    "\n",
    "**Example**\n",
    "\n",
    "A person's height in centimeters.\n",
    "\n",
    "#### 1.a. Discrete Variables\n",
    "\n",
    "Countable numbers with no fractions or decimals.\n",
    "\n",
    "**Example**\n",
    "\n",
    "Number of students in a class.\n",
    "\n",
    "#### 1.b. Continuous Variables\n",
    "Measurable values that can have decimals.\n",
    "\n",
    "**Example**\n",
    "\n",
    "A person's weight in kilograms\n",
    "\n",
    "### 2. Qualitative Variables\n",
    "Descriptive categories or labels without numerical meaning.\n",
    "\n",
    "**Example**\n",
    "\n",
    "A person’s eye color (blue, brown, green).\n",
    "\n"
   ]
  },
  {
   "cell_type": "markdown",
   "id": "39fffe54-996c-43c3-b62f-c7f2c770e391",
   "metadata": {},
   "source": [
    "# Variable Measurement Scale\n",
    "\n",
    "\n"
   ]
  },
  {
   "cell_type": "code",
   "execution_count": null,
   "id": "b786270e-57fe-4614-99cc-21d7fd7104cb",
   "metadata": {},
   "outputs": [],
   "source": []
  },
  {
   "cell_type": "code",
   "execution_count": null,
   "id": "7e9c1533-0b87-422d-9565-42102217d3a7",
   "metadata": {},
   "outputs": [],
   "source": []
  }
 ],
 "metadata": {
  "kernelspec": {
   "display_name": "Python 3 (ipykernel)",
   "language": "python",
   "name": "python3"
  },
  "language_info": {
   "codemirror_mode": {
    "name": "ipython",
    "version": 3
   },
   "file_extension": ".py",
   "mimetype": "text/x-python",
   "name": "python",
   "nbconvert_exporter": "python",
   "pygments_lexer": "ipython3",
   "version": "3.12.7"
  }
 },
 "nbformat": 4,
 "nbformat_minor": 5
}
